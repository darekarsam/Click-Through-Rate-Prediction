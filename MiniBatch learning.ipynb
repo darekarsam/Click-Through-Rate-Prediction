{
 "cells": [
  {
   "cell_type": "code",
   "execution_count": 1,
   "metadata": {},
   "outputs": [],
   "source": [
    "from pathlib import Path\n",
    "import pandas as pd"
   ]
  },
  {
   "cell_type": "code",
   "execution_count": 2,
   "metadata": {},
   "outputs": [],
   "source": [
    "dataFolder = Path.cwd().joinpath('Data')"
   ]
  },
  {
   "cell_type": "code",
   "execution_count": 3,
   "metadata": {},
   "outputs": [],
   "source": [
    "bidcolumnHeaders = ['bidID', 'Timestamp', 'XYZID', 'useragent', 'ip', 'region', 'city', 'adexchange', 'domain', \\\n",
    "                 'url', 'anonURLID', 'adSlotID', 'width', 'height', \\\n",
    "                 'visibility', 'format', 'slotPrice', 'creativeId', 'bidprice', 'adverId', 'userTag']"
   ]
  },
  {
   "cell_type": "code",
   "execution_count": 4,
   "metadata": {},
   "outputs": [],
   "source": [
    "bidlogs = sorted(list(dataFolder.glob('bid.201310[1-2][9,0,1,2,3,4,5,6,7].txt.bz2')))"
   ]
  },
  {
   "cell_type": "code",
   "execution_count": 5,
   "metadata": {},
   "outputs": [],
   "source": [
    "clklogs = sorted(list(dataFolder.glob('clk.201310[1-2][9,0,1,2,3,4,5,6,7].txt.bz2')))"
   ]
  },
  {
   "cell_type": "code",
   "execution_count": 6,
   "metadata": {},
   "outputs": [
    {
     "data": {
      "text/plain": [
       "PosixPath('/mnt/New Volume/Projects/Challenges/zypmedia/Click-Through-Rate-Prediction/Data/bid.20131019.txt.bz2')"
      ]
     },
     "execution_count": 6,
     "metadata": {},
     "output_type": "execute_result"
    }
   ],
   "source": [
    "bidlogs[0]"
   ]
  },
  {
   "cell_type": "code",
   "execution_count": 7,
   "metadata": {},
   "outputs": [],
   "source": [
    "bidDf = pd.read_csv(bidlogs[0], sep='\\t', names=bidcolumnHeaders, compression='bz2')"
   ]
  },
  {
   "cell_type": "code",
   "execution_count": 8,
   "metadata": {},
   "outputs": [
    {
     "data": {
      "text/plain": [
       "Index(['bidID', 'Timestamp', 'XYZID', 'useragent', 'ip', 'region', 'city',\n",
       "       'adexchange', 'domain', 'url', 'anonURLID', 'adSlotID', 'width',\n",
       "       'height', 'visibility', 'format', 'slotPrice', 'creativeId', 'bidprice',\n",
       "       'adverId', 'userTag'],\n",
       "      dtype='object')"
      ]
     },
     "execution_count": 8,
     "metadata": {},
     "output_type": "execute_result"
    }
   ],
   "source": [
    "bidDf.columns"
   ]
  },
  {
   "cell_type": "code",
   "execution_count": 9,
   "metadata": {},
   "outputs": [
    {
     "data": {
      "text/plain": [
       "352766"
      ]
     },
     "execution_count": 9,
     "metadata": {},
     "output_type": "execute_result"
    }
   ],
   "source": [
    "len(bidDf)"
   ]
  },
  {
   "cell_type": "code",
   "execution_count": 10,
   "metadata": {},
   "outputs": [],
   "source": [
    "clkcolumnHeaders = ['bidID', 'Timestamp', 'logType', 'XYZID', 'useragent', 'ip', 'region', 'city', 'adexchange', 'domain', \\\n",
    "                 'url', 'anonURLID', 'adSlotID', 'width', 'height', 'visibility', \\\n",
    "                 'format', 'slotPrice', 'creativeId', 'bidprice', 'payPrice', 'keypageUrl', 'adverId', 'userTag']"
   ]
  },
  {
   "cell_type": "code",
   "execution_count": 11,
   "metadata": {},
   "outputs": [],
   "source": [
    "clkDf = pd.read_csv(clklogs[0], sep='\\t', names=clkcolumnHeaders, compression='bz2')"
   ]
  },
  {
   "cell_type": "code",
   "execution_count": 12,
   "metadata": {},
   "outputs": [
    {
     "data": {
      "text/html": [
       "<div>\n",
       "<style scoped>\n",
       "    .dataframe tbody tr th:only-of-type {\n",
       "        vertical-align: middle;\n",
       "    }\n",
       "\n",
       "    .dataframe tbody tr th {\n",
       "        vertical-align: top;\n",
       "    }\n",
       "\n",
       "    .dataframe thead th {\n",
       "        text-align: right;\n",
       "    }\n",
       "</style>\n",
       "<table border=\"1\" class=\"dataframe\">\n",
       "  <thead>\n",
       "    <tr style=\"text-align: right;\">\n",
       "      <th></th>\n",
       "      <th>bidID</th>\n",
       "      <th>Timestamp</th>\n",
       "      <th>logType</th>\n",
       "      <th>XYZID</th>\n",
       "      <th>useragent</th>\n",
       "      <th>ip</th>\n",
       "      <th>region</th>\n",
       "      <th>city</th>\n",
       "      <th>adexchange</th>\n",
       "      <th>domain</th>\n",
       "      <th>...</th>\n",
       "      <th>height</th>\n",
       "      <th>visibility</th>\n",
       "      <th>format</th>\n",
       "      <th>slotPrice</th>\n",
       "      <th>creativeId</th>\n",
       "      <th>bidprice</th>\n",
       "      <th>payPrice</th>\n",
       "      <th>keypageUrl</th>\n",
       "      <th>adverId</th>\n",
       "      <th>userTag</th>\n",
       "    </tr>\n",
       "  </thead>\n",
       "  <tbody>\n",
       "    <tr>\n",
       "      <th>0</th>\n",
       "      <td>a76f978b4d6284b0bbd9cf5372659a19</td>\n",
       "      <td>20131019053006837</td>\n",
       "      <td>2</td>\n",
       "      <td>DAJ5U6D5v7r</td>\n",
       "      <td>Mozilla/4.0 (compatible; MSIE 7.0; Windows NT ...</td>\n",
       "      <td>112.90.194.*</td>\n",
       "      <td>216</td>\n",
       "      <td>232</td>\n",
       "      <td>3</td>\n",
       "      <td>dd4270481b753dde29898e27c7c03920</td>\n",
       "      <td>...</td>\n",
       "      <td>90</td>\n",
       "      <td>Na</td>\n",
       "      <td>Na</td>\n",
       "      <td>10</td>\n",
       "      <td>7336</td>\n",
       "      <td>294</td>\n",
       "      <td>160</td>\n",
       "      <td>NaN</td>\n",
       "      <td>2259</td>\n",
       "      <td>NaN</td>\n",
       "    </tr>\n",
       "    <tr>\n",
       "      <th>1</th>\n",
       "      <td>8d7fa5a491ec520c36a046db4cd4061c</td>\n",
       "      <td>20131019171702253</td>\n",
       "      <td>2</td>\n",
       "      <td>DADLdKELxuH</td>\n",
       "      <td>Mozilla/4.0 (compatible; MSIE 8.0; Windows NT ...</td>\n",
       "      <td>58.61.88.*</td>\n",
       "      <td>216</td>\n",
       "      <td>219</td>\n",
       "      <td>3</td>\n",
       "      <td>dd4270481b753dde29898e27c7c03920</td>\n",
       "      <td>...</td>\n",
       "      <td>90</td>\n",
       "      <td>Na</td>\n",
       "      <td>Na</td>\n",
       "      <td>70</td>\n",
       "      <td>7336</td>\n",
       "      <td>294</td>\n",
       "      <td>288</td>\n",
       "      <td>NaN</td>\n",
       "      <td>2259</td>\n",
       "      <td>NaN</td>\n",
       "    </tr>\n",
       "    <tr>\n",
       "      <th>2</th>\n",
       "      <td>23656833e450b618ba83acf638fed9f8</td>\n",
       "      <td>20131019152500322</td>\n",
       "      <td>2</td>\n",
       "      <td>DAJFP052tw1</td>\n",
       "      <td>Mozilla/4.0 (compatible; MSIE 7.0; Windows NT ...</td>\n",
       "      <td>219.137.92.*</td>\n",
       "      <td>216</td>\n",
       "      <td>217</td>\n",
       "      <td>2</td>\n",
       "      <td>5a1f4090d69373a3031c3c08f0305440</td>\n",
       "      <td>...</td>\n",
       "      <td>60</td>\n",
       "      <td>OtherView</td>\n",
       "      <td>Na</td>\n",
       "      <td>5</td>\n",
       "      <td>7320</td>\n",
       "      <td>277</td>\n",
       "      <td>23</td>\n",
       "      <td>NaN</td>\n",
       "      <td>2259</td>\n",
       "      <td>NaN</td>\n",
       "    </tr>\n",
       "    <tr>\n",
       "      <th>3</th>\n",
       "      <td>533fac74edd75dec54656adde86b8739</td>\n",
       "      <td>20131019124018842</td>\n",
       "      <td>2</td>\n",
       "      <td>DAJC440AvCr</td>\n",
       "      <td>Mozilla/5.0 (Windows NT 5.1) AppleWebKit/536.7...</td>\n",
       "      <td>221.4.142.*</td>\n",
       "      <td>216</td>\n",
       "      <td>233</td>\n",
       "      <td>3</td>\n",
       "      <td>dd4270481b753dde29898e27c7c03920</td>\n",
       "      <td>...</td>\n",
       "      <td>90</td>\n",
       "      <td>Na</td>\n",
       "      <td>Na</td>\n",
       "      <td>70</td>\n",
       "      <td>7336</td>\n",
       "      <td>294</td>\n",
       "      <td>70</td>\n",
       "      <td>NaN</td>\n",
       "      <td>2259</td>\n",
       "      <td>NaN</td>\n",
       "    </tr>\n",
       "    <tr>\n",
       "      <th>4</th>\n",
       "      <td>d296cddfd1a817108f98efa7eb98d8ec</td>\n",
       "      <td>20131019141600316</td>\n",
       "      <td>2</td>\n",
       "      <td>DA4Cp9EKtRV</td>\n",
       "      <td>Mozilla/5.0 (Windows NT 6.1; WOW64) AppleWebKi...</td>\n",
       "      <td>221.4.220.*</td>\n",
       "      <td>216</td>\n",
       "      <td>220</td>\n",
       "      <td>2</td>\n",
       "      <td>72734556ae57adc490c2f568b309ffe3</td>\n",
       "      <td>...</td>\n",
       "      <td>90</td>\n",
       "      <td>OtherView</td>\n",
       "      <td>Na</td>\n",
       "      <td>5</td>\n",
       "      <td>7330</td>\n",
       "      <td>277</td>\n",
       "      <td>184</td>\n",
       "      <td>NaN</td>\n",
       "      <td>2259</td>\n",
       "      <td>NaN</td>\n",
       "    </tr>\n",
       "  </tbody>\n",
       "</table>\n",
       "<p>5 rows × 24 columns</p>\n",
       "</div>"
      ],
      "text/plain": [
       "                              bidID          Timestamp  logType        XYZID  \\\n",
       "0  a76f978b4d6284b0bbd9cf5372659a19  20131019053006837        2  DAJ5U6D5v7r   \n",
       "1  8d7fa5a491ec520c36a046db4cd4061c  20131019171702253        2  DADLdKELxuH   \n",
       "2  23656833e450b618ba83acf638fed9f8  20131019152500322        2  DAJFP052tw1   \n",
       "3  533fac74edd75dec54656adde86b8739  20131019124018842        2  DAJC440AvCr   \n",
       "4  d296cddfd1a817108f98efa7eb98d8ec  20131019141600316        2  DA4Cp9EKtRV   \n",
       "\n",
       "                                           useragent            ip  region  \\\n",
       "0  Mozilla/4.0 (compatible; MSIE 7.0; Windows NT ...  112.90.194.*     216   \n",
       "1  Mozilla/4.0 (compatible; MSIE 8.0; Windows NT ...    58.61.88.*     216   \n",
       "2  Mozilla/4.0 (compatible; MSIE 7.0; Windows NT ...  219.137.92.*     216   \n",
       "3  Mozilla/5.0 (Windows NT 5.1) AppleWebKit/536.7...   221.4.142.*     216   \n",
       "4  Mozilla/5.0 (Windows NT 6.1; WOW64) AppleWebKi...   221.4.220.*     216   \n",
       "\n",
       "   city  adexchange                            domain   ...    height  \\\n",
       "0   232           3  dd4270481b753dde29898e27c7c03920   ...        90   \n",
       "1   219           3  dd4270481b753dde29898e27c7c03920   ...        90   \n",
       "2   217           2  5a1f4090d69373a3031c3c08f0305440   ...        60   \n",
       "3   233           3  dd4270481b753dde29898e27c7c03920   ...        90   \n",
       "4   220           2  72734556ae57adc490c2f568b309ffe3   ...        90   \n",
       "\n",
       "   visibility format  slotPrice  creativeId bidprice payPrice  keypageUrl  \\\n",
       "0          Na     Na         10        7336      294      160         NaN   \n",
       "1          Na     Na         70        7336      294      288         NaN   \n",
       "2   OtherView     Na          5        7320      277       23         NaN   \n",
       "3          Na     Na         70        7336      294       70         NaN   \n",
       "4   OtherView     Na          5        7330      277      184         NaN   \n",
       "\n",
       "   adverId  userTag  \n",
       "0     2259      NaN  \n",
       "1     2259      NaN  \n",
       "2     2259      NaN  \n",
       "3     2259      NaN  \n",
       "4     2259      NaN  \n",
       "\n",
       "[5 rows x 24 columns]"
      ]
     },
     "execution_count": 12,
     "metadata": {},
     "output_type": "execute_result"
    }
   ],
   "source": [
    "clkDf.head()"
   ]
  },
  {
   "cell_type": "code",
   "execution_count": 14,
   "metadata": {},
   "outputs": [],
   "source": [
    "bidDf['click'] = 0"
   ]
  },
  {
   "cell_type": "code",
   "execution_count": 15,
   "metadata": {},
   "outputs": [
    {
     "data": {
      "text/html": [
       "<div>\n",
       "<style scoped>\n",
       "    .dataframe tbody tr th:only-of-type {\n",
       "        vertical-align: middle;\n",
       "    }\n",
       "\n",
       "    .dataframe tbody tr th {\n",
       "        vertical-align: top;\n",
       "    }\n",
       "\n",
       "    .dataframe thead th {\n",
       "        text-align: right;\n",
       "    }\n",
       "</style>\n",
       "<table border=\"1\" class=\"dataframe\">\n",
       "  <thead>\n",
       "    <tr style=\"text-align: right;\">\n",
       "      <th></th>\n",
       "      <th>bidID</th>\n",
       "      <th>Timestamp</th>\n",
       "      <th>XYZID</th>\n",
       "      <th>useragent</th>\n",
       "      <th>ip</th>\n",
       "      <th>region</th>\n",
       "      <th>city</th>\n",
       "      <th>adexchange</th>\n",
       "      <th>domain</th>\n",
       "      <th>url</th>\n",
       "      <th>...</th>\n",
       "      <th>width</th>\n",
       "      <th>height</th>\n",
       "      <th>visibility</th>\n",
       "      <th>format</th>\n",
       "      <th>slotPrice</th>\n",
       "      <th>creativeId</th>\n",
       "      <th>bidprice</th>\n",
       "      <th>adverId</th>\n",
       "      <th>userTag</th>\n",
       "      <th>click</th>\n",
       "    </tr>\n",
       "  </thead>\n",
       "  <tbody>\n",
       "    <tr>\n",
       "      <th>0</th>\n",
       "      <td>35fd1ad90bf35fadd3047b0bfc7be326</td>\n",
       "      <td>20131019100000067</td>\n",
       "      <td>DAB8cXDkxdy</td>\n",
       "      <td>Mozilla/5.0 (Windows NT 6.1) AppleWebKit/537.3...</td>\n",
       "      <td>113.107.229.*</td>\n",
       "      <td>216</td>\n",
       "      <td>237</td>\n",
       "      <td>1</td>\n",
       "      <td>b5f57062ae7f4ba7f1489b9133b991d6</td>\n",
       "      <td>51773ab0ae291eb88b2740e781a99099</td>\n",
       "      <td>...</td>\n",
       "      <td>300</td>\n",
       "      <td>250</td>\n",
       "      <td>Na</td>\n",
       "      <td>Fixed</td>\n",
       "      <td>0</td>\n",
       "      <td>7323</td>\n",
       "      <td>294</td>\n",
       "      <td>2259</td>\n",
       "      <td>NaN</td>\n",
       "      <td>0</td>\n",
       "    </tr>\n",
       "    <tr>\n",
       "      <th>1</th>\n",
       "      <td>79b665070e59ebb2b07a7592334ce75a</td>\n",
       "      <td>20131019100000039</td>\n",
       "      <td>D96MEd7Dxp9</td>\n",
       "      <td>Mozilla/5.0 (Windows NT 5.1) AppleWebKit/537.1...</td>\n",
       "      <td>119.32.95.*</td>\n",
       "      <td>216</td>\n",
       "      <td>217</td>\n",
       "      <td>2</td>\n",
       "      <td>ed5dfe7e38655bf6defecf2f284e79ba</td>\n",
       "      <td>11f05bd65774f9b52400e73e76dde41b</td>\n",
       "      <td>...</td>\n",
       "      <td>250</td>\n",
       "      <td>250</td>\n",
       "      <td>OtherView</td>\n",
       "      <td>Na</td>\n",
       "      <td>4</td>\n",
       "      <td>7321</td>\n",
       "      <td>277</td>\n",
       "      <td>2259</td>\n",
       "      <td>NaN</td>\n",
       "      <td>0</td>\n",
       "    </tr>\n",
       "    <tr>\n",
       "      <th>2</th>\n",
       "      <td>633707a960a18e07fc639afa6a4afd97</td>\n",
       "      <td>20131019100000062</td>\n",
       "      <td>NaN</td>\n",
       "      <td>Mozilla/4.0 (Windows; U; Windows NT 5.1; zh-TW...</td>\n",
       "      <td>113.83.245.*</td>\n",
       "      <td>216</td>\n",
       "      <td>227</td>\n",
       "      <td>2</td>\n",
       "      <td>f78321209a9738b2e198ddc508045c99</td>\n",
       "      <td>NaN</td>\n",
       "      <td>...</td>\n",
       "      <td>300</td>\n",
       "      <td>250</td>\n",
       "      <td>OtherView</td>\n",
       "      <td>Na</td>\n",
       "      <td>5</td>\n",
       "      <td>7323</td>\n",
       "      <td>277</td>\n",
       "      <td>2259</td>\n",
       "      <td>NaN</td>\n",
       "      <td>0</td>\n",
       "    </tr>\n",
       "    <tr>\n",
       "      <th>3</th>\n",
       "      <td>264b38e31c1d6978802292a7815c8b80</td>\n",
       "      <td>20131019100000768</td>\n",
       "      <td>DAIJrqA8xbC</td>\n",
       "      <td>Mozilla/4.0 (compatible; MSIE 8.0; Windows NT ...</td>\n",
       "      <td>113.111.33.*</td>\n",
       "      <td>216</td>\n",
       "      <td>217</td>\n",
       "      <td>3</td>\n",
       "      <td>369fbd5dd0636d8b3e8199bf027854b1</td>\n",
       "      <td>6bf50b173a5827b99f9ddde1056ee59a</td>\n",
       "      <td>...</td>\n",
       "      <td>728</td>\n",
       "      <td>90</td>\n",
       "      <td>Na</td>\n",
       "      <td>Na</td>\n",
       "      <td>20</td>\n",
       "      <td>7330</td>\n",
       "      <td>294</td>\n",
       "      <td>2259</td>\n",
       "      <td>NaN</td>\n",
       "      <td>0</td>\n",
       "    </tr>\n",
       "    <tr>\n",
       "      <th>4</th>\n",
       "      <td>55c2625f4872a9246fde4b719067424b</td>\n",
       "      <td>20131019100002089</td>\n",
       "      <td>NaN</td>\n",
       "      <td>Mozilla/5.0 (Windows NT 5.1) AppleWebKit/537.3...</td>\n",
       "      <td>183.1.70.*</td>\n",
       "      <td>216</td>\n",
       "      <td>217</td>\n",
       "      <td>3</td>\n",
       "      <td>eb6cf22883534275b3c9b6af2307e28d</td>\n",
       "      <td>25561276d5e8edaec04853fb455c0504</td>\n",
       "      <td>...</td>\n",
       "      <td>1000</td>\n",
       "      <td>90</td>\n",
       "      <td>Na</td>\n",
       "      <td>Na</td>\n",
       "      <td>50</td>\n",
       "      <td>7336</td>\n",
       "      <td>294</td>\n",
       "      <td>2259</td>\n",
       "      <td>NaN</td>\n",
       "      <td>0</td>\n",
       "    </tr>\n",
       "  </tbody>\n",
       "</table>\n",
       "<p>5 rows × 22 columns</p>\n",
       "</div>"
      ],
      "text/plain": [
       "                              bidID          Timestamp        XYZID  \\\n",
       "0  35fd1ad90bf35fadd3047b0bfc7be326  20131019100000067  DAB8cXDkxdy   \n",
       "1  79b665070e59ebb2b07a7592334ce75a  20131019100000039  D96MEd7Dxp9   \n",
       "2  633707a960a18e07fc639afa6a4afd97  20131019100000062          NaN   \n",
       "3  264b38e31c1d6978802292a7815c8b80  20131019100000768  DAIJrqA8xbC   \n",
       "4  55c2625f4872a9246fde4b719067424b  20131019100002089          NaN   \n",
       "\n",
       "                                           useragent             ip  region  \\\n",
       "0  Mozilla/5.0 (Windows NT 6.1) AppleWebKit/537.3...  113.107.229.*     216   \n",
       "1  Mozilla/5.0 (Windows NT 5.1) AppleWebKit/537.1...    119.32.95.*     216   \n",
       "2  Mozilla/4.0 (Windows; U; Windows NT 5.1; zh-TW...   113.83.245.*     216   \n",
       "3  Mozilla/4.0 (compatible; MSIE 8.0; Windows NT ...   113.111.33.*     216   \n",
       "4  Mozilla/5.0 (Windows NT 5.1) AppleWebKit/537.3...     183.1.70.*     216   \n",
       "\n",
       "   city  adexchange                            domain  \\\n",
       "0   237           1  b5f57062ae7f4ba7f1489b9133b991d6   \n",
       "1   217           2  ed5dfe7e38655bf6defecf2f284e79ba   \n",
       "2   227           2  f78321209a9738b2e198ddc508045c99   \n",
       "3   217           3  369fbd5dd0636d8b3e8199bf027854b1   \n",
       "4   217           3  eb6cf22883534275b3c9b6af2307e28d   \n",
       "\n",
       "                                url  ...    width height  visibility  format  \\\n",
       "0  51773ab0ae291eb88b2740e781a99099  ...      300    250          Na   Fixed   \n",
       "1  11f05bd65774f9b52400e73e76dde41b  ...      250    250   OtherView      Na   \n",
       "2                               NaN  ...      300    250   OtherView      Na   \n",
       "3  6bf50b173a5827b99f9ddde1056ee59a  ...      728     90          Na      Na   \n",
       "4  25561276d5e8edaec04853fb455c0504  ...     1000     90          Na      Na   \n",
       "\n",
       "  slotPrice creativeId  bidprice  adverId  userTag  click  \n",
       "0         0       7323       294     2259      NaN      0  \n",
       "1         4       7321       277     2259      NaN      0  \n",
       "2         5       7323       277     2259      NaN      0  \n",
       "3        20       7330       294     2259      NaN      0  \n",
       "4        50       7336       294     2259      NaN      0  \n",
       "\n",
       "[5 rows x 22 columns]"
      ]
     },
     "execution_count": 15,
     "metadata": {},
     "output_type": "execute_result"
    }
   ],
   "source": [
    "bidDf.head()"
   ]
  },
  {
   "cell_type": "code",
   "execution_count": 39,
   "metadata": {},
   "outputs": [
    {
     "data": {
      "text/plain": [
       "bidID         352766\n",
       "Timestamp     310679\n",
       "XYZID         194605\n",
       "useragent      34654\n",
       "ip             51900\n",
       "region             1\n",
       "city              22\n",
       "adexchange         3\n",
       "domain          8589\n",
       "url           119477\n",
       "anonURLID          0\n",
       "adSlotID       15319\n",
       "width             16\n",
       "height            11\n",
       "visibility         7\n",
       "format             3\n",
       "slotPrice        143\n",
       "creativeId        21\n",
       "bidprice           2\n",
       "adverId            1\n",
       "userTag            0\n",
       "click              1\n",
       "dtype: int64"
      ]
     },
     "execution_count": 39,
     "metadata": {},
     "output_type": "execute_result"
    }
   ],
   "source": [
    "bidDf.apply(pd.Series.nunique)"
   ]
  },
  {
   "cell_type": "code",
   "execution_count": 54,
   "metadata": {},
   "outputs": [],
   "source": [
    "bidDf = pd.read_csv(bidlogs[5], sep='\\t', names=bidcolumnHeaders, compression='bz2')"
   ]
  },
  {
   "cell_type": "code",
   "execution_count": 55,
   "metadata": {},
   "outputs": [
    {
     "data": {
      "text/plain": [
       "bidID         2184015\n",
       "Timestamp     1361967\n",
       "XYZID          809763\n",
       "useragent      132917\n",
       "ip             425800\n",
       "region             35\n",
       "city              370\n",
       "adexchange          4\n",
       "domain          22929\n",
       "url            519788\n",
       "anonURLID           0\n",
       "adSlotID        46467\n",
       "width              21\n",
       "height             14\n",
       "visibility          7\n",
       "format              3\n",
       "slotPrice         275\n",
       "creativeId         53\n",
       "bidprice            2\n",
       "adverId             4\n",
       "userTag             0\n",
       "dtype: int64"
      ]
     },
     "execution_count": 55,
     "metadata": {},
     "output_type": "execute_result"
    }
   ],
   "source": [
    "bidDf.apply(pd.Series.nunique)# Timestamp, XYZID, useragent, ip, domain, url, adSlotID,creativeId\n",
    "#numeric: width, height, slotPrice, bidPrice"
   ]
  },
  {
   "cell_type": "code",
   "execution_count": 53,
   "metadata": {},
   "outputs": [
    {
     "data": {
      "text/plain": [
       "array([250, 100,  90, 280, 600,  60, 200, 240, 300, 150, 125,  50])"
      ]
     },
     "execution_count": 53,
     "metadata": {},
     "output_type": "execute_result"
    }
   ],
   "source": [
    "bidDf.height.unique()"
   ]
  },
  {
   "cell_type": "code",
   "execution_count": null,
   "metadata": {},
   "outputs": [],
   "source": []
  }
 ],
 "metadata": {
  "kernelspec": {
   "display_name": "Python 3",
   "language": "python",
   "name": "python3"
  },
  "language_info": {
   "codemirror_mode": {
    "name": "ipython",
    "version": 3
   },
   "file_extension": ".py",
   "mimetype": "text/x-python",
   "name": "python",
   "nbconvert_exporter": "python",
   "pygments_lexer": "ipython3",
   "version": "3.6.3"
  }
 },
 "nbformat": 4,
 "nbformat_minor": 2
}
