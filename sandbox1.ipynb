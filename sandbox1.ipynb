{
 "cells": [
  {
   "cell_type": "code",
   "execution_count": 1,
   "metadata": {},
   "outputs": [],
   "source": [
    "from pathlib import Path\n",
    "import pandas as pd"
   ]
  },
  {
   "cell_type": "code",
   "execution_count": 2,
   "metadata": {},
   "outputs": [],
   "source": [
    "dataFolder = Path.cwd().joinpath('Data')"
   ]
  },
  {
   "cell_type": "code",
   "execution_count": 3,
   "metadata": {},
   "outputs": [],
   "source": [
    "implogs = sorted(list(dataFolder.glob('imp.201310[1-2][9,0,1,2,3,4,5,6,7].txt.bz2')))"
   ]
  },
  {
   "cell_type": "code",
   "execution_count": 4,
   "metadata": {},
   "outputs": [],
   "source": [
    "clklogs = sorted(list(dataFolder.glob('clk.201310[1-2][9,0,1,2,3,4,5,6,7].txt.bz2')))"
   ]
  },
  {
   "cell_type": "code",
   "execution_count": 5,
   "metadata": {},
   "outputs": [
    {
     "data": {
      "text/plain": [
       "PosixPath('/mnt/New Volume/Projects/Challenges/zypmedia/Click-Through-Rate-Prediction/Data/imp.20131019.txt.bz2')"
      ]
     },
     "execution_count": 5,
     "metadata": {},
     "output_type": "execute_result"
    }
   ],
   "source": [
    "implogs[0]"
   ]
  },
  {
   "cell_type": "code",
   "execution_count": 6,
   "metadata": {},
   "outputs": [],
   "source": [
    "columnHeaders = ['bidID', 'Timestamp', 'logType', 'XYZID', 'useragent', 'ip', 'region', 'city', 'adexchange', 'domain', \\\n",
    "                 'url', 'anonURLID', 'adSlotID', 'width', 'height', 'visibility', \\\n",
    "                 'format', 'slotPrice', 'creativeId', 'bidprice', 'payPrice', 'keypageUrl', 'adverId', 'userTag']"
   ]
  },
  {
   "cell_type": "code",
   "execution_count": 7,
   "metadata": {},
   "outputs": [],
   "source": [
    "impDf = pd.read_csv(implogs[2], sep='\\t', names=columnHeaders, compression='bz2')"
   ]
  },
  {
   "cell_type": "code",
   "execution_count": 8,
   "metadata": {},
   "outputs": [
    {
     "data": {
      "text/html": [
       "<div>\n",
       "<style scoped>\n",
       "    .dataframe tbody tr th:only-of-type {\n",
       "        vertical-align: middle;\n",
       "    }\n",
       "\n",
       "    .dataframe tbody tr th {\n",
       "        vertical-align: top;\n",
       "    }\n",
       "\n",
       "    .dataframe thead th {\n",
       "        text-align: right;\n",
       "    }\n",
       "</style>\n",
       "<table border=\"1\" class=\"dataframe\">\n",
       "  <thead>\n",
       "    <tr style=\"text-align: right;\">\n",
       "      <th></th>\n",
       "      <th>bidID</th>\n",
       "      <th>Timestamp</th>\n",
       "      <th>logType</th>\n",
       "      <th>XYZID</th>\n",
       "      <th>useragent</th>\n",
       "      <th>ip</th>\n",
       "      <th>region</th>\n",
       "      <th>city</th>\n",
       "      <th>adexchange</th>\n",
       "      <th>domain</th>\n",
       "      <th>...</th>\n",
       "      <th>height</th>\n",
       "      <th>visibility</th>\n",
       "      <th>format</th>\n",
       "      <th>slotPrice</th>\n",
       "      <th>creativeId</th>\n",
       "      <th>bidprice</th>\n",
       "      <th>payPrice</th>\n",
       "      <th>keypageUrl</th>\n",
       "      <th>adverId</th>\n",
       "      <th>userTag</th>\n",
       "    </tr>\n",
       "  </thead>\n",
       "  <tbody>\n",
       "    <tr>\n",
       "      <th>0</th>\n",
       "      <td>49b5a58c3a3c39c32ba5a36f70a3daa5</td>\n",
       "      <td>20131021192300738</td>\n",
       "      <td>1</td>\n",
       "      <td>C4NDR12~1B</td>\n",
       "      <td>Mozilla/4.0 (compatible; MSIE 7.0; Windows NT ...</td>\n",
       "      <td>222.218.230.*</td>\n",
       "      <td>238</td>\n",
       "      <td>246</td>\n",
       "      <td>1</td>\n",
       "      <td>9a2acabba41e00373f68053fd73e4d50</td>\n",
       "      <td>...</td>\n",
       "      <td>250</td>\n",
       "      <td>FirstView</td>\n",
       "      <td>Na</td>\n",
       "      <td>0</td>\n",
       "      <td>10722</td>\n",
       "      <td>294</td>\n",
       "      <td>201</td>\n",
       "      <td>NaN</td>\n",
       "      <td>2821</td>\n",
       "      <td>10063</td>\n",
       "    </tr>\n",
       "    <tr>\n",
       "      <th>1</th>\n",
       "      <td>c1078ebfa50f21c9c835abe38ed9a30c</td>\n",
       "      <td>20131021100401227</td>\n",
       "      <td>1</td>\n",
       "      <td>C7JCqa3e3g</td>\n",
       "      <td>Mozilla/4.0 (compatible; MSIE 6.0; Windows NT ...</td>\n",
       "      <td>183.9.173.*</td>\n",
       "      <td>216</td>\n",
       "      <td>236</td>\n",
       "      <td>2</td>\n",
       "      <td>13625cb070ffb306b425cd803c4b7ab4</td>\n",
       "      <td>...</td>\n",
       "      <td>600</td>\n",
       "      <td>Na</td>\n",
       "      <td>Na</td>\n",
       "      <td>148</td>\n",
       "      <td>7317</td>\n",
       "      <td>277</td>\n",
       "      <td>148</td>\n",
       "      <td>NaN</td>\n",
       "      <td>2259</td>\n",
       "      <td>10102,10024,13866,10133</td>\n",
       "    </tr>\n",
       "    <tr>\n",
       "      <th>2</th>\n",
       "      <td>f19257fc9a29e12366e51ec0f6f89cdf</td>\n",
       "      <td>20131021100401241</td>\n",
       "      <td>1</td>\n",
       "      <td>C7JCqa3e3g</td>\n",
       "      <td>Mozilla/4.0 (compatible; MSIE 6.0; Windows NT ...</td>\n",
       "      <td>183.9.173.*</td>\n",
       "      <td>216</td>\n",
       "      <td>236</td>\n",
       "      <td>2</td>\n",
       "      <td>13625cb070ffb306b425cd803c4b7ab4</td>\n",
       "      <td>...</td>\n",
       "      <td>90</td>\n",
       "      <td>Na</td>\n",
       "      <td>Na</td>\n",
       "      <td>221</td>\n",
       "      <td>7330</td>\n",
       "      <td>277</td>\n",
       "      <td>221</td>\n",
       "      <td>NaN</td>\n",
       "      <td>2259</td>\n",
       "      <td>10102,10024,13866,10133</td>\n",
       "    </tr>\n",
       "    <tr>\n",
       "      <th>3</th>\n",
       "      <td>a10d601d8d23a36921ce597e0fb327f1</td>\n",
       "      <td>20131021210002124</td>\n",
       "      <td>1</td>\n",
       "      <td>C8INvJAR60</td>\n",
       "      <td>Mozilla/4.0 (compatible; MSIE 6.0; Windows NT ...</td>\n",
       "      <td>218.107.8.*</td>\n",
       "      <td>216</td>\n",
       "      <td>217</td>\n",
       "      <td>4</td>\n",
       "      <td>de6d8b674cde8053f9c5c082d1c3032e</td>\n",
       "      <td>...</td>\n",
       "      <td>90</td>\n",
       "      <td>FirstView</td>\n",
       "      <td>Na</td>\n",
       "      <td>30</td>\n",
       "      <td>10717</td>\n",
       "      <td>294</td>\n",
       "      <td>36</td>\n",
       "      <td>NaN</td>\n",
       "      <td>2821</td>\n",
       "      <td>10048,16751,14273,10117,10083,13776,10110,1340...</td>\n",
       "    </tr>\n",
       "    <tr>\n",
       "      <th>4</th>\n",
       "      <td>322cbb15e02fac50eef7597ed385dad7</td>\n",
       "      <td>20131021104212803</td>\n",
       "      <td>1</td>\n",
       "      <td>C9DH0S4Fezi</td>\n",
       "      <td>Mozilla/4.0 (compatible; MSIE 6.0; Windows NT ...</td>\n",
       "      <td>14.118.89.*</td>\n",
       "      <td>216</td>\n",
       "      <td>223</td>\n",
       "      <td>1</td>\n",
       "      <td>f9945190249543d821199b597257ffe8</td>\n",
       "      <td>...</td>\n",
       "      <td>280</td>\n",
       "      <td>ThirdView</td>\n",
       "      <td>Na</td>\n",
       "      <td>0</td>\n",
       "      <td>7326</td>\n",
       "      <td>294</td>\n",
       "      <td>143</td>\n",
       "      <td>NaN</td>\n",
       "      <td>2259</td>\n",
       "      <td>10048,13800,10684,10074,10024,10006,10111,1013...</td>\n",
       "    </tr>\n",
       "  </tbody>\n",
       "</table>\n",
       "<p>5 rows × 24 columns</p>\n",
       "</div>"
      ],
      "text/plain": [
       "                              bidID          Timestamp  logType        XYZID  \\\n",
       "0  49b5a58c3a3c39c32ba5a36f70a3daa5  20131021192300738        1   C4NDR12~1B   \n",
       "1  c1078ebfa50f21c9c835abe38ed9a30c  20131021100401227        1   C7JCqa3e3g   \n",
       "2  f19257fc9a29e12366e51ec0f6f89cdf  20131021100401241        1   C7JCqa3e3g   \n",
       "3  a10d601d8d23a36921ce597e0fb327f1  20131021210002124        1   C8INvJAR60   \n",
       "4  322cbb15e02fac50eef7597ed385dad7  20131021104212803        1  C9DH0S4Fezi   \n",
       "\n",
       "                                           useragent             ip  region  \\\n",
       "0  Mozilla/4.0 (compatible; MSIE 7.0; Windows NT ...  222.218.230.*     238   \n",
       "1  Mozilla/4.0 (compatible; MSIE 6.0; Windows NT ...    183.9.173.*     216   \n",
       "2  Mozilla/4.0 (compatible; MSIE 6.0; Windows NT ...    183.9.173.*     216   \n",
       "3  Mozilla/4.0 (compatible; MSIE 6.0; Windows NT ...    218.107.8.*     216   \n",
       "4  Mozilla/4.0 (compatible; MSIE 6.0; Windows NT ...    14.118.89.*     216   \n",
       "\n",
       "   city  adexchange                            domain  \\\n",
       "0   246           1  9a2acabba41e00373f68053fd73e4d50   \n",
       "1   236           2  13625cb070ffb306b425cd803c4b7ab4   \n",
       "2   236           2  13625cb070ffb306b425cd803c4b7ab4   \n",
       "3   217           4  de6d8b674cde8053f9c5c082d1c3032e   \n",
       "4   223           1  f9945190249543d821199b597257ffe8   \n",
       "\n",
       "                         ...                         height  visibility  \\\n",
       "0                        ...                            250   FirstView   \n",
       "1                        ...                            600          Na   \n",
       "2                        ...                             90          Na   \n",
       "3                        ...                             90   FirstView   \n",
       "4                        ...                            280   ThirdView   \n",
       "\n",
       "  format  slotPrice  creativeId bidprice payPrice  keypageUrl  adverId  \\\n",
       "0     Na          0       10722      294      201         NaN     2821   \n",
       "1     Na        148        7317      277      148         NaN     2259   \n",
       "2     Na        221        7330      277      221         NaN     2259   \n",
       "3     Na         30       10717      294       36         NaN     2821   \n",
       "4     Na          0        7326      294      143         NaN     2259   \n",
       "\n",
       "                                             userTag  \n",
       "0                                              10063  \n",
       "1                            10102,10024,13866,10133  \n",
       "2                            10102,10024,13866,10133  \n",
       "3  10048,16751,14273,10117,10083,13776,10110,1340...  \n",
       "4  10048,13800,10684,10074,10024,10006,10111,1013...  \n",
       "\n",
       "[5 rows x 24 columns]"
      ]
     },
     "execution_count": 8,
     "metadata": {},
     "output_type": "execute_result"
    }
   ],
   "source": [
    "impDf.head()"
   ]
  },
  {
   "cell_type": "code",
   "execution_count": 20,
   "metadata": {},
   "outputs": [
    {
     "data": {
      "text/plain": [
       "{1, 2, 3, 4, 5}"
      ]
     },
     "execution_count": 20,
     "metadata": {},
     "output_type": "execute_result"
    }
   ],
   "source": [
    "set(list(impDf.adexchange.unique())).union([5])"
   ]
  },
  {
   "cell_type": "code",
   "execution_count": 125,
   "metadata": {},
   "outputs": [
    {
     "data": {
      "text/plain": [
       "bidID         False\n",
       "Timestamp     False\n",
       "logType       False\n",
       "XYZID         False\n",
       "useragent      True\n",
       "ip            False\n",
       "region        False\n",
       "city          False\n",
       "adexchange    False\n",
       "domain         True\n",
       "url            True\n",
       "anonURLID      True\n",
       "adSlotID      False\n",
       "width         False\n",
       "height        False\n",
       "visibility    False\n",
       "format        False\n",
       "slotPrice     False\n",
       "creativeId    False\n",
       "bidprice      False\n",
       "payPrice      False\n",
       "keypageUrl     True\n",
       "adverId       False\n",
       "userTag        True\n",
       "dtype: bool"
      ]
     },
     "execution_count": 125,
     "metadata": {},
     "output_type": "execute_result"
    }
   ],
   "source": [
    "impDf.isna().any()"
   ]
  },
  {
   "cell_type": "code",
   "execution_count": 76,
   "metadata": {},
   "outputs": [],
   "source": [
    "clkDf = pd.read_csv(clklogs[3], sep='\\t', names=columnHeaders, compression='bz2')"
   ]
  },
  {
   "cell_type": "code",
   "execution_count": 77,
   "metadata": {},
   "outputs": [
    {
     "data": {
      "text/plain": [
       "391"
      ]
     },
     "execution_count": 77,
     "metadata": {},
     "output_type": "execute_result"
    }
   ],
   "source": [
    "len(clkDf)"
   ]
  },
  {
   "cell_type": "code",
   "execution_count": 78,
   "metadata": {},
   "outputs": [],
   "source": [
    "impDf['click'] = 0"
   ]
  },
  {
   "cell_type": "code",
   "execution_count": 82,
   "metadata": {},
   "outputs": [],
   "source": [
    "impDf.loc[impDf.bidID.isin(clkDf.bidID),'click'] = 1"
   ]
  },
  {
   "cell_type": "code",
   "execution_count": 88,
   "metadata": {},
   "outputs": [
    {
     "data": {
      "text/plain": [
       "array([  5,  30,  20,   0,  70,  92,   4,  50, 180,  80,  67,   8,  32,\n",
       "        10,  40,  63,  77,  31,  23, 100,  90,  75, 103, 125, 140,  13,\n",
       "       199,  52, 148,  62,  38,  39,  89,  15, 221, 153, 133, 160, 115,\n",
       "       177,  33,  36, 107, 118, 188,  93,  76,  61,  74,  64, 192, 244,\n",
       "        59, 111, 150,  45, 206, 259,  81, 233, 237, 138, 239, 271,  54,\n",
       "        18,  16, 105,  88, 123,  69, 191, 229, 121, 122, 263, 246, 267,\n",
       "        53, 216,   7, 144,  46, 117, 146, 185, 252,  79, 225, 136, 183,\n",
       "       159,  25,   6, 124, 236, 269, 250, 260, 131, 238, 113, 168, 142,\n",
       "       186,  11,  24, 130,  34, 209,  14, 265, 172,  48, 248,  84, 119,\n",
       "        72, 224, 156, 147,  68, 275, 101, 198,  28, 223, 247, 214, 234,\n",
       "       213, 135,  73, 157, 174,  35, 145, 249, 126, 202, 176, 178,  27,\n",
       "       241,  95, 137, 251, 261, 128, 112,  47])"
      ]
     },
     "execution_count": 88,
     "metadata": {},
     "output_type": "execute_result"
    }
   ],
   "source": [
    "impDf['slotPrice'].unique()"
   ]
  },
  {
   "cell_type": "code",
   "execution_count": 89,
   "metadata": {},
   "outputs": [
    {
     "data": {
      "text/plain": [
       "bidID         692782\n",
       "Timestamp     624078\n",
       "logType            1\n",
       "XYZID         645885\n",
       "useragent      58328\n",
       "ip            281081\n",
       "region            35\n",
       "city             370\n",
       "adexchange         4\n",
       "domain         10887\n",
       "url           278619\n",
       "anonURLID          0\n",
       "adSlotID       21243\n",
       "width             17\n",
       "height            11\n",
       "visibility         7\n",
       "format             1\n",
       "slotPrice        151\n",
       "creativeId        30\n",
       "bidprice           2\n",
       "payPrice         295\n",
       "keypageUrl         0\n",
       "adverId            2\n",
       "userTag       224724\n",
       "click              2\n",
       "dtype: int64"
      ]
     },
     "execution_count": 89,
     "metadata": {},
     "output_type": "execute_result"
    }
   ],
   "source": [
    "impDf.apply(pd.Series.nunique)"
   ]
  },
  {
   "cell_type": "code",
   "execution_count": null,
   "metadata": {},
   "outputs": [],
   "source": [
    "bidDf = pd.read_csv(bidlogs[5], sep='\\t', names=bidcolumnHeaders, compression='bz2')"
   ]
  },
  {
   "cell_type": "code",
   "execution_count": null,
   "metadata": {},
   "outputs": [],
   "source": [
    "impDf.apply(pd.Series.nunique)# Timestamp, XYZID, useragent, ip, domain, url, adSlotID,creativeId\n",
    "#numeric: width, height, slotPrice, bidPrice, payPrice"
   ]
  },
  {
   "cell_type": "code",
   "execution_count": 101,
   "metadata": {},
   "outputs": [
    {
     "data": {
      "text/plain": [
       "array([2821, 2259])"
      ]
     },
     "execution_count": 101,
     "metadata": {},
     "output_type": "execute_result"
    }
   ],
   "source": [
    "impDf.adverId.unique()"
   ]
  },
  {
   "cell_type": "code",
   "execution_count": 90,
   "metadata": {},
   "outputs": [
    {
     "data": {
      "text/plain": [
       "array([2, 4, 3, 1])"
      ]
     },
     "execution_count": 90,
     "metadata": {},
     "output_type": "execute_result"
    }
   ],
   "source": [
    "impDf.adexchange.unique()"
   ]
  },
  {
   "cell_type": "code",
   "execution_count": 94,
   "metadata": {},
   "outputs": [
    {
     "name": "stderr",
     "output_type": "stream",
     "text": [
      "/home/sameer/anaconda3/lib/python3.6/site-packages/ipykernel/__main__.py:1: FutureWarning: specifying 'categories' or 'ordered' in .astype() is deprecated; pass a CategoricalDtype instead\n",
      "  if __name__ == '__main__':\n"
     ]
    }
   ],
   "source": [
    "cat = impDf.adexchange.astype('category', categories=[1,2,3,4,5])"
   ]
  },
  {
   "cell_type": "code",
   "execution_count": 96,
   "metadata": {},
   "outputs": [
    {
     "data": {
      "text/html": [
       "<div>\n",
       "<style scoped>\n",
       "    .dataframe tbody tr th:only-of-type {\n",
       "        vertical-align: middle;\n",
       "    }\n",
       "\n",
       "    .dataframe tbody tr th {\n",
       "        vertical-align: top;\n",
       "    }\n",
       "\n",
       "    .dataframe thead th {\n",
       "        text-align: right;\n",
       "    }\n",
       "</style>\n",
       "<table border=\"1\" class=\"dataframe\">\n",
       "  <thead>\n",
       "    <tr style=\"text-align: right;\">\n",
       "      <th></th>\n",
       "      <th>ad_1</th>\n",
       "      <th>ad_2</th>\n",
       "      <th>ad_3</th>\n",
       "      <th>ad_4</th>\n",
       "      <th>ad_5</th>\n",
       "    </tr>\n",
       "  </thead>\n",
       "  <tbody>\n",
       "    <tr>\n",
       "      <th>0</th>\n",
       "      <td>0</td>\n",
       "      <td>1</td>\n",
       "      <td>0</td>\n",
       "      <td>0</td>\n",
       "      <td>0</td>\n",
       "    </tr>\n",
       "    <tr>\n",
       "      <th>1</th>\n",
       "      <td>0</td>\n",
       "      <td>1</td>\n",
       "      <td>0</td>\n",
       "      <td>0</td>\n",
       "      <td>0</td>\n",
       "    </tr>\n",
       "    <tr>\n",
       "      <th>2</th>\n",
       "      <td>0</td>\n",
       "      <td>0</td>\n",
       "      <td>0</td>\n",
       "      <td>1</td>\n",
       "      <td>0</td>\n",
       "    </tr>\n",
       "    <tr>\n",
       "      <th>3</th>\n",
       "      <td>0</td>\n",
       "      <td>0</td>\n",
       "      <td>1</td>\n",
       "      <td>0</td>\n",
       "      <td>0</td>\n",
       "    </tr>\n",
       "    <tr>\n",
       "      <th>4</th>\n",
       "      <td>1</td>\n",
       "      <td>0</td>\n",
       "      <td>0</td>\n",
       "      <td>0</td>\n",
       "      <td>0</td>\n",
       "    </tr>\n",
       "    <tr>\n",
       "      <th>5</th>\n",
       "      <td>0</td>\n",
       "      <td>0</td>\n",
       "      <td>0</td>\n",
       "      <td>1</td>\n",
       "      <td>0</td>\n",
       "    </tr>\n",
       "    <tr>\n",
       "      <th>6</th>\n",
       "      <td>0</td>\n",
       "      <td>0</td>\n",
       "      <td>0</td>\n",
       "      <td>1</td>\n",
       "      <td>0</td>\n",
       "    </tr>\n",
       "    <tr>\n",
       "      <th>7</th>\n",
       "      <td>0</td>\n",
       "      <td>0</td>\n",
       "      <td>0</td>\n",
       "      <td>1</td>\n",
       "      <td>0</td>\n",
       "    </tr>\n",
       "    <tr>\n",
       "      <th>8</th>\n",
       "      <td>0</td>\n",
       "      <td>0</td>\n",
       "      <td>0</td>\n",
       "      <td>1</td>\n",
       "      <td>0</td>\n",
       "    </tr>\n",
       "    <tr>\n",
       "      <th>9</th>\n",
       "      <td>0</td>\n",
       "      <td>0</td>\n",
       "      <td>0</td>\n",
       "      <td>1</td>\n",
       "      <td>0</td>\n",
       "    </tr>\n",
       "    <tr>\n",
       "      <th>10</th>\n",
       "      <td>0</td>\n",
       "      <td>1</td>\n",
       "      <td>0</td>\n",
       "      <td>0</td>\n",
       "      <td>0</td>\n",
       "    </tr>\n",
       "    <tr>\n",
       "      <th>11</th>\n",
       "      <td>0</td>\n",
       "      <td>0</td>\n",
       "      <td>0</td>\n",
       "      <td>1</td>\n",
       "      <td>0</td>\n",
       "    </tr>\n",
       "    <tr>\n",
       "      <th>12</th>\n",
       "      <td>0</td>\n",
       "      <td>0</td>\n",
       "      <td>0</td>\n",
       "      <td>1</td>\n",
       "      <td>0</td>\n",
       "    </tr>\n",
       "    <tr>\n",
       "      <th>13</th>\n",
       "      <td>0</td>\n",
       "      <td>0</td>\n",
       "      <td>0</td>\n",
       "      <td>1</td>\n",
       "      <td>0</td>\n",
       "    </tr>\n",
       "    <tr>\n",
       "      <th>14</th>\n",
       "      <td>0</td>\n",
       "      <td>0</td>\n",
       "      <td>1</td>\n",
       "      <td>0</td>\n",
       "      <td>0</td>\n",
       "    </tr>\n",
       "    <tr>\n",
       "      <th>15</th>\n",
       "      <td>1</td>\n",
       "      <td>0</td>\n",
       "      <td>0</td>\n",
       "      <td>0</td>\n",
       "      <td>0</td>\n",
       "    </tr>\n",
       "    <tr>\n",
       "      <th>16</th>\n",
       "      <td>0</td>\n",
       "      <td>1</td>\n",
       "      <td>0</td>\n",
       "      <td>0</td>\n",
       "      <td>0</td>\n",
       "    </tr>\n",
       "    <tr>\n",
       "      <th>17</th>\n",
       "      <td>1</td>\n",
       "      <td>0</td>\n",
       "      <td>0</td>\n",
       "      <td>0</td>\n",
       "      <td>0</td>\n",
       "    </tr>\n",
       "    <tr>\n",
       "      <th>18</th>\n",
       "      <td>1</td>\n",
       "      <td>0</td>\n",
       "      <td>0</td>\n",
       "      <td>0</td>\n",
       "      <td>0</td>\n",
       "    </tr>\n",
       "    <tr>\n",
       "      <th>19</th>\n",
       "      <td>0</td>\n",
       "      <td>1</td>\n",
       "      <td>0</td>\n",
       "      <td>0</td>\n",
       "      <td>0</td>\n",
       "    </tr>\n",
       "    <tr>\n",
       "      <th>20</th>\n",
       "      <td>0</td>\n",
       "      <td>0</td>\n",
       "      <td>1</td>\n",
       "      <td>0</td>\n",
       "      <td>0</td>\n",
       "    </tr>\n",
       "    <tr>\n",
       "      <th>21</th>\n",
       "      <td>0</td>\n",
       "      <td>0</td>\n",
       "      <td>0</td>\n",
       "      <td>1</td>\n",
       "      <td>0</td>\n",
       "    </tr>\n",
       "    <tr>\n",
       "      <th>22</th>\n",
       "      <td>1</td>\n",
       "      <td>0</td>\n",
       "      <td>0</td>\n",
       "      <td>0</td>\n",
       "      <td>0</td>\n",
       "    </tr>\n",
       "    <tr>\n",
       "      <th>23</th>\n",
       "      <td>1</td>\n",
       "      <td>0</td>\n",
       "      <td>0</td>\n",
       "      <td>0</td>\n",
       "      <td>0</td>\n",
       "    </tr>\n",
       "    <tr>\n",
       "      <th>24</th>\n",
       "      <td>0</td>\n",
       "      <td>0</td>\n",
       "      <td>0</td>\n",
       "      <td>1</td>\n",
       "      <td>0</td>\n",
       "    </tr>\n",
       "    <tr>\n",
       "      <th>25</th>\n",
       "      <td>0</td>\n",
       "      <td>1</td>\n",
       "      <td>0</td>\n",
       "      <td>0</td>\n",
       "      <td>0</td>\n",
       "    </tr>\n",
       "    <tr>\n",
       "      <th>26</th>\n",
       "      <td>0</td>\n",
       "      <td>0</td>\n",
       "      <td>0</td>\n",
       "      <td>1</td>\n",
       "      <td>0</td>\n",
       "    </tr>\n",
       "    <tr>\n",
       "      <th>27</th>\n",
       "      <td>0</td>\n",
       "      <td>0</td>\n",
       "      <td>1</td>\n",
       "      <td>0</td>\n",
       "      <td>0</td>\n",
       "    </tr>\n",
       "    <tr>\n",
       "      <th>28</th>\n",
       "      <td>0</td>\n",
       "      <td>0</td>\n",
       "      <td>0</td>\n",
       "      <td>1</td>\n",
       "      <td>0</td>\n",
       "    </tr>\n",
       "    <tr>\n",
       "      <th>29</th>\n",
       "      <td>1</td>\n",
       "      <td>0</td>\n",
       "      <td>0</td>\n",
       "      <td>0</td>\n",
       "      <td>0</td>\n",
       "    </tr>\n",
       "    <tr>\n",
       "      <th>...</th>\n",
       "      <td>...</td>\n",
       "      <td>...</td>\n",
       "      <td>...</td>\n",
       "      <td>...</td>\n",
       "      <td>...</td>\n",
       "    </tr>\n",
       "    <tr>\n",
       "      <th>695690</th>\n",
       "      <td>1</td>\n",
       "      <td>0</td>\n",
       "      <td>0</td>\n",
       "      <td>0</td>\n",
       "      <td>0</td>\n",
       "    </tr>\n",
       "    <tr>\n",
       "      <th>695691</th>\n",
       "      <td>0</td>\n",
       "      <td>1</td>\n",
       "      <td>0</td>\n",
       "      <td>0</td>\n",
       "      <td>0</td>\n",
       "    </tr>\n",
       "    <tr>\n",
       "      <th>695692</th>\n",
       "      <td>0</td>\n",
       "      <td>0</td>\n",
       "      <td>1</td>\n",
       "      <td>0</td>\n",
       "      <td>0</td>\n",
       "    </tr>\n",
       "    <tr>\n",
       "      <th>695693</th>\n",
       "      <td>1</td>\n",
       "      <td>0</td>\n",
       "      <td>0</td>\n",
       "      <td>0</td>\n",
       "      <td>0</td>\n",
       "    </tr>\n",
       "    <tr>\n",
       "      <th>695694</th>\n",
       "      <td>1</td>\n",
       "      <td>0</td>\n",
       "      <td>0</td>\n",
       "      <td>0</td>\n",
       "      <td>0</td>\n",
       "    </tr>\n",
       "    <tr>\n",
       "      <th>695695</th>\n",
       "      <td>0</td>\n",
       "      <td>0</td>\n",
       "      <td>0</td>\n",
       "      <td>1</td>\n",
       "      <td>0</td>\n",
       "    </tr>\n",
       "    <tr>\n",
       "      <th>695696</th>\n",
       "      <td>0</td>\n",
       "      <td>1</td>\n",
       "      <td>0</td>\n",
       "      <td>0</td>\n",
       "      <td>0</td>\n",
       "    </tr>\n",
       "    <tr>\n",
       "      <th>695697</th>\n",
       "      <td>0</td>\n",
       "      <td>0</td>\n",
       "      <td>0</td>\n",
       "      <td>1</td>\n",
       "      <td>0</td>\n",
       "    </tr>\n",
       "    <tr>\n",
       "      <th>695698</th>\n",
       "      <td>0</td>\n",
       "      <td>0</td>\n",
       "      <td>0</td>\n",
       "      <td>1</td>\n",
       "      <td>0</td>\n",
       "    </tr>\n",
       "    <tr>\n",
       "      <th>695699</th>\n",
       "      <td>0</td>\n",
       "      <td>0</td>\n",
       "      <td>1</td>\n",
       "      <td>0</td>\n",
       "      <td>0</td>\n",
       "    </tr>\n",
       "    <tr>\n",
       "      <th>695700</th>\n",
       "      <td>1</td>\n",
       "      <td>0</td>\n",
       "      <td>0</td>\n",
       "      <td>0</td>\n",
       "      <td>0</td>\n",
       "    </tr>\n",
       "    <tr>\n",
       "      <th>695701</th>\n",
       "      <td>0</td>\n",
       "      <td>1</td>\n",
       "      <td>0</td>\n",
       "      <td>0</td>\n",
       "      <td>0</td>\n",
       "    </tr>\n",
       "    <tr>\n",
       "      <th>695702</th>\n",
       "      <td>0</td>\n",
       "      <td>0</td>\n",
       "      <td>1</td>\n",
       "      <td>0</td>\n",
       "      <td>0</td>\n",
       "    </tr>\n",
       "    <tr>\n",
       "      <th>695703</th>\n",
       "      <td>0</td>\n",
       "      <td>0</td>\n",
       "      <td>0</td>\n",
       "      <td>1</td>\n",
       "      <td>0</td>\n",
       "    </tr>\n",
       "    <tr>\n",
       "      <th>695704</th>\n",
       "      <td>0</td>\n",
       "      <td>1</td>\n",
       "      <td>0</td>\n",
       "      <td>0</td>\n",
       "      <td>0</td>\n",
       "    </tr>\n",
       "    <tr>\n",
       "      <th>695705</th>\n",
       "      <td>0</td>\n",
       "      <td>0</td>\n",
       "      <td>1</td>\n",
       "      <td>0</td>\n",
       "      <td>0</td>\n",
       "    </tr>\n",
       "    <tr>\n",
       "      <th>695706</th>\n",
       "      <td>0</td>\n",
       "      <td>0</td>\n",
       "      <td>1</td>\n",
       "      <td>0</td>\n",
       "      <td>0</td>\n",
       "    </tr>\n",
       "    <tr>\n",
       "      <th>695707</th>\n",
       "      <td>0</td>\n",
       "      <td>0</td>\n",
       "      <td>0</td>\n",
       "      <td>1</td>\n",
       "      <td>0</td>\n",
       "    </tr>\n",
       "    <tr>\n",
       "      <th>695708</th>\n",
       "      <td>1</td>\n",
       "      <td>0</td>\n",
       "      <td>0</td>\n",
       "      <td>0</td>\n",
       "      <td>0</td>\n",
       "    </tr>\n",
       "    <tr>\n",
       "      <th>695709</th>\n",
       "      <td>1</td>\n",
       "      <td>0</td>\n",
       "      <td>0</td>\n",
       "      <td>0</td>\n",
       "      <td>0</td>\n",
       "    </tr>\n",
       "    <tr>\n",
       "      <th>695710</th>\n",
       "      <td>0</td>\n",
       "      <td>0</td>\n",
       "      <td>1</td>\n",
       "      <td>0</td>\n",
       "      <td>0</td>\n",
       "    </tr>\n",
       "    <tr>\n",
       "      <th>695711</th>\n",
       "      <td>0</td>\n",
       "      <td>0</td>\n",
       "      <td>0</td>\n",
       "      <td>1</td>\n",
       "      <td>0</td>\n",
       "    </tr>\n",
       "    <tr>\n",
       "      <th>695712</th>\n",
       "      <td>1</td>\n",
       "      <td>0</td>\n",
       "      <td>0</td>\n",
       "      <td>0</td>\n",
       "      <td>0</td>\n",
       "    </tr>\n",
       "    <tr>\n",
       "      <th>695713</th>\n",
       "      <td>0</td>\n",
       "      <td>0</td>\n",
       "      <td>0</td>\n",
       "      <td>1</td>\n",
       "      <td>0</td>\n",
       "    </tr>\n",
       "    <tr>\n",
       "      <th>695714</th>\n",
       "      <td>0</td>\n",
       "      <td>0</td>\n",
       "      <td>1</td>\n",
       "      <td>0</td>\n",
       "      <td>0</td>\n",
       "    </tr>\n",
       "    <tr>\n",
       "      <th>695715</th>\n",
       "      <td>0</td>\n",
       "      <td>0</td>\n",
       "      <td>0</td>\n",
       "      <td>1</td>\n",
       "      <td>0</td>\n",
       "    </tr>\n",
       "    <tr>\n",
       "      <th>695716</th>\n",
       "      <td>0</td>\n",
       "      <td>0</td>\n",
       "      <td>1</td>\n",
       "      <td>0</td>\n",
       "      <td>0</td>\n",
       "    </tr>\n",
       "    <tr>\n",
       "      <th>695717</th>\n",
       "      <td>0</td>\n",
       "      <td>0</td>\n",
       "      <td>0</td>\n",
       "      <td>1</td>\n",
       "      <td>0</td>\n",
       "    </tr>\n",
       "    <tr>\n",
       "      <th>695718</th>\n",
       "      <td>0</td>\n",
       "      <td>0</td>\n",
       "      <td>0</td>\n",
       "      <td>1</td>\n",
       "      <td>0</td>\n",
       "    </tr>\n",
       "    <tr>\n",
       "      <th>695719</th>\n",
       "      <td>0</td>\n",
       "      <td>1</td>\n",
       "      <td>0</td>\n",
       "      <td>0</td>\n",
       "      <td>0</td>\n",
       "    </tr>\n",
       "  </tbody>\n",
       "</table>\n",
       "<p>695720 rows × 5 columns</p>\n",
       "</div>"
      ],
      "text/plain": [
       "        ad_1  ad_2  ad_3  ad_4  ad_5\n",
       "0          0     1     0     0     0\n",
       "1          0     1     0     0     0\n",
       "2          0     0     0     1     0\n",
       "3          0     0     1     0     0\n",
       "4          1     0     0     0     0\n",
       "5          0     0     0     1     0\n",
       "6          0     0     0     1     0\n",
       "7          0     0     0     1     0\n",
       "8          0     0     0     1     0\n",
       "9          0     0     0     1     0\n",
       "10         0     1     0     0     0\n",
       "11         0     0     0     1     0\n",
       "12         0     0     0     1     0\n",
       "13         0     0     0     1     0\n",
       "14         0     0     1     0     0\n",
       "15         1     0     0     0     0\n",
       "16         0     1     0     0     0\n",
       "17         1     0     0     0     0\n",
       "18         1     0     0     0     0\n",
       "19         0     1     0     0     0\n",
       "20         0     0     1     0     0\n",
       "21         0     0     0     1     0\n",
       "22         1     0     0     0     0\n",
       "23         1     0     0     0     0\n",
       "24         0     0     0     1     0\n",
       "25         0     1     0     0     0\n",
       "26         0     0     0     1     0\n",
       "27         0     0     1     0     0\n",
       "28         0     0     0     1     0\n",
       "29         1     0     0     0     0\n",
       "...      ...   ...   ...   ...   ...\n",
       "695690     1     0     0     0     0\n",
       "695691     0     1     0     0     0\n",
       "695692     0     0     1     0     0\n",
       "695693     1     0     0     0     0\n",
       "695694     1     0     0     0     0\n",
       "695695     0     0     0     1     0\n",
       "695696     0     1     0     0     0\n",
       "695697     0     0     0     1     0\n",
       "695698     0     0     0     1     0\n",
       "695699     0     0     1     0     0\n",
       "695700     1     0     0     0     0\n",
       "695701     0     1     0     0     0\n",
       "695702     0     0     1     0     0\n",
       "695703     0     0     0     1     0\n",
       "695704     0     1     0     0     0\n",
       "695705     0     0     1     0     0\n",
       "695706     0     0     1     0     0\n",
       "695707     0     0     0     1     0\n",
       "695708     1     0     0     0     0\n",
       "695709     1     0     0     0     0\n",
       "695710     0     0     1     0     0\n",
       "695711     0     0     0     1     0\n",
       "695712     1     0     0     0     0\n",
       "695713     0     0     0     1     0\n",
       "695714     0     0     1     0     0\n",
       "695715     0     0     0     1     0\n",
       "695716     0     0     1     0     0\n",
       "695717     0     0     0     1     0\n",
       "695718     0     0     0     1     0\n",
       "695719     0     1     0     0     0\n",
       "\n",
       "[695720 rows x 5 columns]"
      ]
     },
     "execution_count": 96,
     "metadata": {},
     "output_type": "execute_result"
    }
   ],
   "source": [
    "pd.get_dummies(cat, prefix='ad')"
   ]
  },
  {
   "cell_type": "code",
   "execution_count": 97,
   "metadata": {},
   "outputs": [],
   "source": [
    "impDf.index = impDf.bidID"
   ]
  },
  {
   "cell_type": "code",
   "execution_count": 115,
   "metadata": {},
   "outputs": [],
   "source": [
    "impDf.drop(['bidID'], axis=1, inplace=True)"
   ]
  },
  {
   "cell_type": "code",
   "execution_count": 116,
   "metadata": {},
   "outputs": [
    {
     "data": {
      "text/plain": [
       "Index(['Timestamp', 'logType', 'XYZID', 'useragent', 'ip', 'region', 'city',\n",
       "       'adexchange', 'domain', 'url', 'anonURLID', 'adSlotID', 'width',\n",
       "       'height', 'visibility', 'format', 'slotPrice', 'creativeId', 'bidprice',\n",
       "       'payPrice', 'keypageUrl', 'adverId', 'userTag'],\n",
       "      dtype='object')"
      ]
     },
     "execution_count": 116,
     "metadata": {},
     "output_type": "execute_result"
    }
   ],
   "source": [
    "impDf.is"
   ]
  },
  {
   "cell_type": "code",
   "execution_count": 126,
   "metadata": {},
   "outputs": [
    {
     "ename": "SyntaxError",
     "evalue": "invalid syntax (<ipython-input-126-f5e9708459d0>, line 5)",
     "output_type": "error",
     "traceback": [
      "\u001b[0;36m  File \u001b[0;32m\"<ipython-input-126-f5e9708459d0>\"\u001b[0;36m, line \u001b[0;32m5\u001b[0m\n\u001b[0;31m    'anonURLID', 'adSlotID', 'creativeId', 'userTag','keypageUrl', 'bidID']\t\t\t]\u001b[0m\n\u001b[0m                                                                           \t\t\t^\u001b[0m\n\u001b[0;31mSyntaxError\u001b[0m\u001b[0;31m:\u001b[0m invalid syntax\n"
     ]
    }
   ],
   "source": [
    "features = {\n",
    "\t'categorical' : ['region', 'city', 'adexchange','visibility', 'format', 'adverId'],\n",
    "\t'numeric' : ['width', 'height', 'slotPrice', 'bidPrice', 'payPrice'],\n",
    "\t'drop' : ['Timestamp', 'logType', 'XYZID', 'useragent', 'ip', 'domain', 'url',\\\n",
    "\t\t\t'anonURLID', 'adSlotID', 'creativeId', 'userTag','keypageUrl', 'bidID']\t\t\t]\n",
    "}"
   ]
  },
  {
   "cell_type": "code",
   "execution_count": 128,
   "metadata": {},
   "outputs": [],
   "source": [
    "import seaborn as sns\n",
    "%matplotlib inline\n"
   ]
  },
  {
   "cell_type": "code",
   "execution_count": 129,
   "metadata": {},
   "outputs": [
    {
     "data": {
      "text/plain": [
       "300     324547\n",
       "960     166172\n",
       "728     119360\n",
       "1000     78542\n",
       "336      48145\n",
       "950      34491\n",
       "120      26116\n",
       "250      19164\n",
       "160      15942\n",
       "200       9254\n",
       "468       6122\n",
       "760        527\n",
       "234        165\n",
       "180        109\n",
       "125         70\n",
       "910         13\n",
       "360          1\n",
       "Name: width, dtype: int64"
      ]
     },
     "execution_count": 129,
     "metadata": {},
     "output_type": "execute_result"
    }
   ],
   "source": [
    "impDf.width.value_counts()"
   ]
  },
  {
   "cell_type": "code",
   "execution_count": 130,
   "metadata": {},
   "outputs": [
    {
     "data": {
      "text/plain": [
       "<matplotlib.axes._subplots.AxesSubplot at 0x7f294d215ba8>"
      ]
     },
     "execution_count": 130,
     "metadata": {},
     "output_type": "execute_result"
    },
    {
     "data": {
      "image/png": "[encoded data removed]",
      "text/plain": [
       "<matplotlib.figure.Figure at 0x7f294d471dd8>"
      ]
     },
     "metadata": {},
     "output_type": "display_data"
    }
   ],
   "source": [
    "sns.distplot(impDf.width)"
   ]
  },
  {
   "cell_type": "code",
   "execution_count": 131,
   "metadata": {},
   "outputs": [
    {
     "data": {
      "text/plain": [
       "<matplotlib.axes._subplots.AxesSubplot at 0x7f296581d0b8>"
      ]
     },
     "execution_count": 131,
     "metadata": {},
     "output_type": "execute_result"
    },
    {
     "data": {
      "image/png": "[encoded data removed]",
      "text/plain": [
       "<matplotlib.figure.Figure at 0x7f294cf78940>"
      ]
     },
     "metadata": {},
     "output_type": "display_data"
    }
   ],
   "source": [
    "sns.distplot(impDf.height)"
   ]
  },
  {
   "cell_type": "code",
   "execution_count": 132,
   "metadata": {},
   "outputs": [
    {
     "data": {
      "text/plain": [
       "<matplotlib.axes._subplots.AxesSubplot at 0x7f294ae6db38>"
      ]
     },
     "execution_count": 132,
     "metadata": {},
     "output_type": "execute_result"
    },
    {
     "data": {
      "image/png": "[encoded data removed]",
      "text/plain": [
       "<matplotlib.figure.Figure at 0x7f294adb1278>"
      ]
     },
     "metadata": {},
     "output_type": "display_data"
    }
   ],
   "source": [
    "sns.distplot(impDf.slotPrice)"
   ]
  },
  {
   "cell_type": "code",
   "execution_count": 135,
   "metadata": {},
   "outputs": [
    {
     "data": {
      "text/plain": [
       "<matplotlib.axes._subplots.AxesSubplot at 0x7f294acdfb00>"
      ]
     },
     "execution_count": 135,
     "metadata": {},
     "output_type": "execute_result"
    },
    {
     "data": {
      "image/png": "[encoded data removed]",
      "text/plain": [
       "<matplotlib.figure.Figure at 0x7f294adb1ac8>"
      ]
     },
     "metadata": {},
     "output_type": "display_data"
    }
   ],
   "source": [
    "sns.distplot(impDf.bidprice)\n"
   ]
  },
  {
   "cell_type": "code",
   "execution_count": 136,
   "metadata": {},
   "outputs": [
    {
     "data": {
      "text/plain": [
       "<matplotlib.axes._subplots.AxesSubplot at 0x7f294ac3e9e8>"
      ]
     },
     "execution_count": 136,
     "metadata": {},
     "output_type": "execute_result"
    },
    {
     "data": {
      "image/png": "[encoded data removed]",
      "text/plain": [
       "<matplotlib.figure.Figure at 0x7f294ab92eb8>"
      ]
     },
     "metadata": {},
     "output_type": "display_data"
    }
   ],
   "source": [
    "sns.distplot(impDf.payPrice)"
   ]
  },
  {
   "cell_type": "code",
   "execution_count": 152,
   "metadata": {},
   "outputs": [],
   "source": [
    "from sklearn.preprocessing import MinMaxScaler\n",
    "df = impDf[['width', 'height', 'slotPrice', 'bidprice', 'payPrice']]\n",
    "min_max_scaler = MinMaxScaler()\n",
    "df = min_max_scaler.fit_transform(df)\n",
    "df = pd.DataFrame(df, columns=['width', 'height', 'slotPrice', 'bidprice', 'payPrice'] )"
   ]
  },
  {
   "cell_type": "code",
   "execution_count": 153,
   "metadata": {},
   "outputs": [
    {
     "data": {
      "text/html": [
       "<div>\n",
       "<style scoped>\n",
       "    .dataframe tbody tr th:only-of-type {\n",
       "        vertical-align: middle;\n",
       "    }\n",
       "\n",
       "    .dataframe tbody tr th {\n",
       "        vertical-align: top;\n",
       "    }\n",
       "\n",
       "    .dataframe thead th {\n",
       "        text-align: right;\n",
       "    }\n",
       "</style>\n",
       "<table border=\"1\" class=\"dataframe\">\n",
       "  <thead>\n",
       "    <tr style=\"text-align: right;\">\n",
       "      <th></th>\n",
       "      <th>width</th>\n",
       "      <th>height</th>\n",
       "      <th>slotPrice</th>\n",
       "      <th>bidprice</th>\n",
       "      <th>payPrice</th>\n",
       "    </tr>\n",
       "  </thead>\n",
       "  <tbody>\n",
       "    <tr>\n",
       "      <th>0</th>\n",
       "      <td>0.204545</td>\n",
       "      <td>0.351852</td>\n",
       "      <td>0.000000</td>\n",
       "      <td>1.0</td>\n",
       "      <td>0.682594</td>\n",
       "    </tr>\n",
       "    <tr>\n",
       "      <th>1</th>\n",
       "      <td>0.045455</td>\n",
       "      <td>1.000000</td>\n",
       "      <td>0.536232</td>\n",
       "      <td>0.0</td>\n",
       "      <td>0.501706</td>\n",
       "    </tr>\n",
       "    <tr>\n",
       "      <th>2</th>\n",
       "      <td>0.690909</td>\n",
       "      <td>0.055556</td>\n",
       "      <td>0.800725</td>\n",
       "      <td>0.0</td>\n",
       "      <td>0.750853</td>\n",
       "    </tr>\n",
       "    <tr>\n",
       "      <th>3</th>\n",
       "      <td>0.954545</td>\n",
       "      <td>0.055556</td>\n",
       "      <td>0.108696</td>\n",
       "      <td>1.0</td>\n",
       "      <td>0.119454</td>\n",
       "    </tr>\n",
       "    <tr>\n",
       "      <th>4</th>\n",
       "      <td>0.245455</td>\n",
       "      <td>0.407407</td>\n",
       "      <td>0.000000</td>\n",
       "      <td>1.0</td>\n",
       "      <td>0.484642</td>\n",
       "    </tr>\n",
       "  </tbody>\n",
       "</table>\n",
       "</div>"
      ],
      "text/plain": [
       "      width    height  slotPrice  bidprice  payPrice\n",
       "0  0.204545  0.351852   0.000000       1.0  0.682594\n",
       "1  0.045455  1.000000   0.536232       0.0  0.501706\n",
       "2  0.690909  0.055556   0.800725       0.0  0.750853\n",
       "3  0.954545  0.055556   0.108696       1.0  0.119454\n",
       "4  0.245455  0.407407   0.000000       1.0  0.484642"
      ]
     },
     "execution_count": 153,
     "metadata": {},
     "output_type": "execute_result"
    }
   ],
   "source": [
    "df.head()"
   ]
  },
  {
   "cell_type": "code",
   "execution_count": 145,
   "metadata": {},
   "outputs": [],
   "source": [
    "df.columns = ['width', 'height', 'slotPrice', 'bidprice', 'payPrice']"
   ]
  },
  {
   "cell_type": "code",
   "execution_count": 148,
   "metadata": {},
   "outputs": [],
   "source": [
    "impDf[['width', 'height', 'slotPrice', 'bidprice', 'payPrice']] = df"
   ]
  },
  {
   "cell_type": "code",
   "execution_count": 149,
   "metadata": {},
   "outputs": [
    {
     "data": {
      "text/html": [
       "<div>\n",
       "<style scoped>\n",
       "    .dataframe tbody tr th:only-of-type {\n",
       "        vertical-align: middle;\n",
       "    }\n",
       "\n",
       "    .dataframe tbody tr th {\n",
       "        vertical-align: top;\n",
       "    }\n",
       "\n",
       "    .dataframe thead th {\n",
       "        text-align: right;\n",
       "    }\n",
       "</style>\n",
       "<table border=\"1\" class=\"dataframe\">\n",
       "  <thead>\n",
       "    <tr style=\"text-align: right;\">\n",
       "      <th></th>\n",
       "      <th>bidID</th>\n",
       "      <th>Timestamp</th>\n",
       "      <th>logType</th>\n",
       "      <th>XYZID</th>\n",
       "      <th>useragent</th>\n",
       "      <th>ip</th>\n",
       "      <th>region</th>\n",
       "      <th>city</th>\n",
       "      <th>adexchange</th>\n",
       "      <th>domain</th>\n",
       "      <th>...</th>\n",
       "      <th>height</th>\n",
       "      <th>visibility</th>\n",
       "      <th>format</th>\n",
       "      <th>slotPrice</th>\n",
       "      <th>creativeId</th>\n",
       "      <th>bidprice</th>\n",
       "      <th>payPrice</th>\n",
       "      <th>keypageUrl</th>\n",
       "      <th>adverId</th>\n",
       "      <th>userTag</th>\n",
       "    </tr>\n",
       "  </thead>\n",
       "  <tbody>\n",
       "    <tr>\n",
       "      <th>0</th>\n",
       "      <td>49b5a58c3a3c39c32ba5a36f70a3daa5</td>\n",
       "      <td>20131021192300738</td>\n",
       "      <td>1</td>\n",
       "      <td>C4NDR12~1B</td>\n",
       "      <td>Mozilla/4.0 (compatible; MSIE 7.0; Windows NT ...</td>\n",
       "      <td>222.218.230.*</td>\n",
       "      <td>238</td>\n",
       "      <td>246</td>\n",
       "      <td>1</td>\n",
       "      <td>9a2acabba41e00373f68053fd73e4d50</td>\n",
       "      <td>...</td>\n",
       "      <td>0.351852</td>\n",
       "      <td>FirstView</td>\n",
       "      <td>Na</td>\n",
       "      <td>0.000000</td>\n",
       "      <td>10722</td>\n",
       "      <td>1.0</td>\n",
       "      <td>0.682594</td>\n",
       "      <td>NaN</td>\n",
       "      <td>2821</td>\n",
       "      <td>10063</td>\n",
       "    </tr>\n",
       "    <tr>\n",
       "      <th>1</th>\n",
       "      <td>c1078ebfa50f21c9c835abe38ed9a30c</td>\n",
       "      <td>20131021100401227</td>\n",
       "      <td>1</td>\n",
       "      <td>C7JCqa3e3g</td>\n",
       "      <td>Mozilla/4.0 (compatible; MSIE 6.0; Windows NT ...</td>\n",
       "      <td>183.9.173.*</td>\n",
       "      <td>216</td>\n",
       "      <td>236</td>\n",
       "      <td>2</td>\n",
       "      <td>13625cb070ffb306b425cd803c4b7ab4</td>\n",
       "      <td>...</td>\n",
       "      <td>1.000000</td>\n",
       "      <td>Na</td>\n",
       "      <td>Na</td>\n",
       "      <td>0.536232</td>\n",
       "      <td>7317</td>\n",
       "      <td>0.0</td>\n",
       "      <td>0.501706</td>\n",
       "      <td>NaN</td>\n",
       "      <td>2259</td>\n",
       "      <td>10102,10024,13866,10133</td>\n",
       "    </tr>\n",
       "    <tr>\n",
       "      <th>2</th>\n",
       "      <td>f19257fc9a29e12366e51ec0f6f89cdf</td>\n",
       "      <td>20131021100401241</td>\n",
       "      <td>1</td>\n",
       "      <td>C7JCqa3e3g</td>\n",
       "      <td>Mozilla/4.0 (compatible; MSIE 6.0; Windows NT ...</td>\n",
       "      <td>183.9.173.*</td>\n",
       "      <td>216</td>\n",
       "      <td>236</td>\n",
       "      <td>2</td>\n",
       "      <td>13625cb070ffb306b425cd803c4b7ab4</td>\n",
       "      <td>...</td>\n",
       "      <td>0.055556</td>\n",
       "      <td>Na</td>\n",
       "      <td>Na</td>\n",
       "      <td>0.800725</td>\n",
       "      <td>7330</td>\n",
       "      <td>0.0</td>\n",
       "      <td>0.750853</td>\n",
       "      <td>NaN</td>\n",
       "      <td>2259</td>\n",
       "      <td>10102,10024,13866,10133</td>\n",
       "    </tr>\n",
       "    <tr>\n",
       "      <th>3</th>\n",
       "      <td>a10d601d8d23a36921ce597e0fb327f1</td>\n",
       "      <td>20131021210002124</td>\n",
       "      <td>1</td>\n",
       "      <td>C8INvJAR60</td>\n",
       "      <td>Mozilla/4.0 (compatible; MSIE 6.0; Windows NT ...</td>\n",
       "      <td>218.107.8.*</td>\n",
       "      <td>216</td>\n",
       "      <td>217</td>\n",
       "      <td>4</td>\n",
       "      <td>de6d8b674cde8053f9c5c082d1c3032e</td>\n",
       "      <td>...</td>\n",
       "      <td>0.055556</td>\n",
       "      <td>FirstView</td>\n",
       "      <td>Na</td>\n",
       "      <td>0.108696</td>\n",
       "      <td>10717</td>\n",
       "      <td>1.0</td>\n",
       "      <td>0.119454</td>\n",
       "      <td>NaN</td>\n",
       "      <td>2821</td>\n",
       "      <td>10048,16751,14273,10117,10083,13776,10110,1340...</td>\n",
       "    </tr>\n",
       "    <tr>\n",
       "      <th>4</th>\n",
       "      <td>322cbb15e02fac50eef7597ed385dad7</td>\n",
       "      <td>20131021104212803</td>\n",
       "      <td>1</td>\n",
       "      <td>C9DH0S4Fezi</td>\n",
       "      <td>Mozilla/4.0 (compatible; MSIE 6.0; Windows NT ...</td>\n",
       "      <td>14.118.89.*</td>\n",
       "      <td>216</td>\n",
       "      <td>223</td>\n",
       "      <td>1</td>\n",
       "      <td>f9945190249543d821199b597257ffe8</td>\n",
       "      <td>...</td>\n",
       "      <td>0.407407</td>\n",
       "      <td>ThirdView</td>\n",
       "      <td>Na</td>\n",
       "      <td>0.000000</td>\n",
       "      <td>7326</td>\n",
       "      <td>1.0</td>\n",
       "      <td>0.484642</td>\n",
       "      <td>NaN</td>\n",
       "      <td>2259</td>\n",
       "      <td>10048,13800,10684,10074,10024,10006,10111,1013...</td>\n",
       "    </tr>\n",
       "  </tbody>\n",
       "</table>\n",
       "<p>5 rows × 24 columns</p>\n",
       "</div>"
      ],
      "text/plain": [
       "                              bidID          Timestamp  logType        XYZID  \\\n",
       "0  49b5a58c3a3c39c32ba5a36f70a3daa5  20131021192300738        1   C4NDR12~1B   \n",
       "1  c1078ebfa50f21c9c835abe38ed9a30c  20131021100401227        1   C7JCqa3e3g   \n",
       "2  f19257fc9a29e12366e51ec0f6f89cdf  20131021100401241        1   C7JCqa3e3g   \n",
       "3  a10d601d8d23a36921ce597e0fb327f1  20131021210002124        1   C8INvJAR60   \n",
       "4  322cbb15e02fac50eef7597ed385dad7  20131021104212803        1  C9DH0S4Fezi   \n",
       "\n",
       "                                           useragent             ip  region  \\\n",
       "0  Mozilla/4.0 (compatible; MSIE 7.0; Windows NT ...  222.218.230.*     238   \n",
       "1  Mozilla/4.0 (compatible; MSIE 6.0; Windows NT ...    183.9.173.*     216   \n",
       "2  Mozilla/4.0 (compatible; MSIE 6.0; Windows NT ...    183.9.173.*     216   \n",
       "3  Mozilla/4.0 (compatible; MSIE 6.0; Windows NT ...    218.107.8.*     216   \n",
       "4  Mozilla/4.0 (compatible; MSIE 6.0; Windows NT ...    14.118.89.*     216   \n",
       "\n",
       "   city  adexchange                            domain  \\\n",
       "0   246           1  9a2acabba41e00373f68053fd73e4d50   \n",
       "1   236           2  13625cb070ffb306b425cd803c4b7ab4   \n",
       "2   236           2  13625cb070ffb306b425cd803c4b7ab4   \n",
       "3   217           4  de6d8b674cde8053f9c5c082d1c3032e   \n",
       "4   223           1  f9945190249543d821199b597257ffe8   \n",
       "\n",
       "                         ...                            height  visibility  \\\n",
       "0                        ...                          0.351852   FirstView   \n",
       "1                        ...                          1.000000          Na   \n",
       "2                        ...                          0.055556          Na   \n",
       "3                        ...                          0.055556   FirstView   \n",
       "4                        ...                          0.407407   ThirdView   \n",
       "\n",
       "  format  slotPrice  creativeId bidprice  payPrice  keypageUrl  adverId  \\\n",
       "0     Na   0.000000       10722      1.0  0.682594         NaN     2821   \n",
       "1     Na   0.536232        7317      0.0  0.501706         NaN     2259   \n",
       "2     Na   0.800725        7330      0.0  0.750853         NaN     2259   \n",
       "3     Na   0.108696       10717      1.0  0.119454         NaN     2821   \n",
       "4     Na   0.000000        7326      1.0  0.484642         NaN     2259   \n",
       "\n",
       "                                             userTag  \n",
       "0                                              10063  \n",
       "1                            10102,10024,13866,10133  \n",
       "2                            10102,10024,13866,10133  \n",
       "3  10048,16751,14273,10117,10083,13776,10110,1340...  \n",
       "4  10048,13800,10684,10074,10024,10006,10111,1013...  \n",
       "\n",
       "[5 rows x 24 columns]"
      ]
     },
     "execution_count": 149,
     "metadata": {},
     "output_type": "execute_result"
    }
   ],
   "source": [
    "impDf.head()"
   ]
  },
  {
   "cell_type": "code",
   "execution_count": 23,
   "metadata": {},
   "outputs": [
    {
     "data": {
      "text/plain": [
       "['1', 'bidprice', 'height', 'payPrice', 'slotPrice', 'width']"
      ]
     },
     "execution_count": 23,
     "metadata": {},
     "output_type": "execute_result"
    }
   ],
   "source": [
    "sorted(list(set(['width', 'height', 'slotPrice', 'bidprice', 'payPrice']+['1'])))"
   ]
  },
  {
   "cell_type": "code",
   "execution_count": 25,
   "metadata": {},
   "outputs": [],
   "source": [
    "import pickle\n",
    "with open('5.pickle', 'rb') as handle:\n",
    "    df = pickle.load(handle)"
   ]
  },
  {
   "cell_type": "code",
   "execution_count": 26,
   "metadata": {},
   "outputs": [
    {
     "data": {
      "text/html": [
       "<div>\n",
       "<style scoped>\n",
       "    .dataframe tbody tr th:only-of-type {\n",
       "        vertical-align: middle;\n",
       "    }\n",
       "\n",
       "    .dataframe tbody tr th {\n",
       "        vertical-align: top;\n",
       "    }\n",
       "\n",
       "    .dataframe thead th {\n",
       "        text-align: right;\n",
       "    }\n",
       "</style>\n",
       "<table border=\"1\" class=\"dataframe\">\n",
       "  <thead>\n",
       "    <tr style=\"text-align: right;\">\n",
       "      <th></th>\n",
       "      <th>region</th>\n",
       "      <th>city</th>\n",
       "      <th>adexchange</th>\n",
       "      <th>width</th>\n",
       "      <th>height</th>\n",
       "      <th>visibility</th>\n",
       "      <th>format</th>\n",
       "      <th>slotPrice</th>\n",
       "      <th>bidprice</th>\n",
       "      <th>payPrice</th>\n",
       "      <th>click</th>\n",
       "    </tr>\n",
       "    <tr>\n",
       "      <th>bidID</th>\n",
       "      <th></th>\n",
       "      <th></th>\n",
       "      <th></th>\n",
       "      <th></th>\n",
       "      <th></th>\n",
       "      <th></th>\n",
       "      <th></th>\n",
       "      <th></th>\n",
       "      <th></th>\n",
       "      <th></th>\n",
       "      <th></th>\n",
       "    </tr>\n",
       "  </thead>\n",
       "  <tbody>\n",
       "    <tr>\n",
       "      <th>7281a6617675e62f6246fe18613003e9</th>\n",
       "      <td>80</td>\n",
       "      <td>93</td>\n",
       "      <td>4.0</td>\n",
       "      <td>0.954545</td>\n",
       "      <td>0.072727</td>\n",
       "      <td>FirstView</td>\n",
       "      <td>Na</td>\n",
       "      <td>0.000000</td>\n",
       "      <td>1.0</td>\n",
       "      <td>0.781570</td>\n",
       "      <td>0</td>\n",
       "    </tr>\n",
       "    <tr>\n",
       "      <th>3181e2272b4ce146851105f14bc8b5ae</th>\n",
       "      <td>2</td>\n",
       "      <td>2</td>\n",
       "      <td>3.0</td>\n",
       "      <td>0.954545</td>\n",
       "      <td>0.072727</td>\n",
       "      <td>Na</td>\n",
       "      <td>Na</td>\n",
       "      <td>0.018051</td>\n",
       "      <td>1.0</td>\n",
       "      <td>0.013652</td>\n",
       "      <td>0</td>\n",
       "    </tr>\n",
       "    <tr>\n",
       "      <th>346299e017720cd8719fba46f181d856</th>\n",
       "      <td>146</td>\n",
       "      <td>153</td>\n",
       "      <td>2.0</td>\n",
       "      <td>0.690909</td>\n",
       "      <td>0.072727</td>\n",
       "      <td>FirstView</td>\n",
       "      <td>Na</td>\n",
       "      <td>0.018051</td>\n",
       "      <td>0.0</td>\n",
       "      <td>0.587031</td>\n",
       "      <td>0</td>\n",
       "    </tr>\n",
       "    <tr>\n",
       "      <th>1b047aa4331ded143341b826db59676f</th>\n",
       "      <td>40</td>\n",
       "      <td>41</td>\n",
       "      <td>3.0</td>\n",
       "      <td>1.000000</td>\n",
       "      <td>0.072727</td>\n",
       "      <td>Na</td>\n",
       "      <td>Na</td>\n",
       "      <td>0.252708</td>\n",
       "      <td>1.0</td>\n",
       "      <td>0.235495</td>\n",
       "      <td>0</td>\n",
       "    </tr>\n",
       "    <tr>\n",
       "      <th>abf5d51a0258d52e754e1796456f8579</th>\n",
       "      <td>55</td>\n",
       "      <td>56</td>\n",
       "      <td>4.0</td>\n",
       "      <td>0.204545</td>\n",
       "      <td>0.363636</td>\n",
       "      <td>SecondView</td>\n",
       "      <td>Na</td>\n",
       "      <td>0.000000</td>\n",
       "      <td>1.0</td>\n",
       "      <td>0.361775</td>\n",
       "      <td>0</td>\n",
       "    </tr>\n",
       "  </tbody>\n",
       "</table>\n",
       "</div>"
      ],
      "text/plain": [
       "                                  region  city  adexchange     width  \\\n",
       "bidID                                                                  \n",
       "7281a6617675e62f6246fe18613003e9      80    93         4.0  0.954545   \n",
       "3181e2272b4ce146851105f14bc8b5ae       2     2         3.0  0.954545   \n",
       "346299e017720cd8719fba46f181d856     146   153         2.0  0.690909   \n",
       "1b047aa4331ded143341b826db59676f      40    41         3.0  1.000000   \n",
       "abf5d51a0258d52e754e1796456f8579      55    56         4.0  0.204545   \n",
       "\n",
       "                                    height  visibility format  slotPrice  \\\n",
       "bidID                                                                      \n",
       "7281a6617675e62f6246fe18613003e9  0.072727   FirstView     Na   0.000000   \n",
       "3181e2272b4ce146851105f14bc8b5ae  0.072727          Na     Na   0.018051   \n",
       "346299e017720cd8719fba46f181d856  0.072727   FirstView     Na   0.018051   \n",
       "1b047aa4331ded143341b826db59676f  0.072727          Na     Na   0.252708   \n",
       "abf5d51a0258d52e754e1796456f8579  0.363636  SecondView     Na   0.000000   \n",
       "\n",
       "                                  bidprice  payPrice  click  \n",
       "bidID                                                        \n",
       "7281a6617675e62f6246fe18613003e9       1.0  0.781570      0  \n",
       "3181e2272b4ce146851105f14bc8b5ae       1.0  0.013652      0  \n",
       "346299e017720cd8719fba46f181d856       0.0  0.587031      0  \n",
       "1b047aa4331ded143341b826db59676f       1.0  0.235495      0  \n",
       "abf5d51a0258d52e754e1796456f8579       1.0  0.361775      0  "
      ]
     },
     "execution_count": 26,
     "metadata": {},
     "output_type": "execute_result"
    }
   ],
   "source": [
    "df.head()"
   ]
  },
  {
   "cell_type": "code",
   "execution_count": null,
   "metadata": {},
   "outputs": [],
   "source": []
  },
  {
   "cell_type": "code",
   "execution_count": 28,
   "metadata": {},
   "outputs": [
    {
     "data": {
      "text/plain": [
       "region          int64\n",
       "city            int64\n",
       "adexchange    float64\n",
       "width         float64\n",
       "height        float64\n",
       "visibility     object\n",
       "format         object\n",
       "slotPrice     float64\n",
       "bidprice      float64\n",
       "payPrice      float64\n",
       "click           int64\n",
       "dtype: object"
      ]
     },
     "execution_count": 28,
     "metadata": {},
     "output_type": "execute_result"
    }
   ],
   "source": [
    "df.dtypes"
   ]
  },
  {
   "cell_type": "code",
   "execution_count": 31,
   "metadata": {},
   "outputs": [
    {
     "data": {
      "text/plain": [
       "array(['FirstView', 'Na', 'SecondView', 'FourthView', 'OtherView',\n",
       "       'ThirdView', 'FifthView'], dtype=object)"
      ]
     },
     "execution_count": 31,
     "metadata": {},
     "output_type": "execute_result"
    }
   ],
   "source": [
    "df.visibility.unique()"
   ]
  },
  {
   "cell_type": "code",
   "execution_count": null,
   "metadata": {},
   "outputs": [],
   "source": []
  }
 ],
 "metadata": {
  "kernelspec": {
   "display_name": "Python 3",
   "language": "python",
   "name": "python3"
  },
  "language_info": {
   "codemirror_mode": {
    "name": "ipython",
    "version": 3
   },
   "file_extension": ".py",
   "mimetype": "text/x-python",
   "name": "python",
   "nbconvert_exporter": "python",
   "pygments_lexer": "ipython3",
   "version": "3.6.3"
  }
 },
 "nbformat": 4,
 "nbformat_minor": 2
}
